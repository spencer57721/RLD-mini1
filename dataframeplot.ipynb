{
 "cells": [
  {
   "cell_type": "code",
   "execution_count": 2,
   "metadata": {},
   "outputs": [],
   "source": [
    "import numpy as np\n",
    "import matplotlib.pyplot as plt\n",
    "import pandas as pd\n",
    "import seaborn as sns"
   ]
  },
  {
   "cell_type": "code",
   "execution_count": null,
   "metadata": {},
   "outputs": [],
   "source": [
    "def plot_heatmap(\n",
    "        data: np.ndarray, \n",
    "        row_labels: np.ndarray,\n",
    "        col_labels:  np.ndarray, #list 应该也不会报错\n",
    "        title: str,\n",
    "        decimal: int = 2, #热力图上坐标轴的小数位数\n",
    "        output_dataframe: bool = False, #true则有df作为返回值\n",
    "        figsize_: int = 10,\n",
    "        ):\n",
    "    row_labels_decimal=[round(i,decimal) for i in row_labels]\n",
    "    col_labels_decimal=[round(i,decimal) for i in col_labels]\n",
    "    df = pd.DataFrame(data, index=row_labels_decimal, columns=col_labels_decimal)\n",
    "    plt.figure(figsize=(figsize_, figsize_))  \n",
    "    sns.heatmap(df, annot=True, fmt=f\".{int(decimal+2)}f\", cmap='viridis') #觉得花里胡哨替换成Blues\n",
    "    plt.title(title)  # 设置标题\n",
    "    plt.show()\n",
    "    if output_dataframe:    #另外输出df\n",
    "        df_origin = pd.DataFrame(data, index=row_labels, columns=col_labels)\n",
    "        return df_origin\n",
    "data = np.random.rand(7, 7) \n",
    "plot_heatmap(data, np.linspace(0,1,7), np.linspace(0,1,7), \"Random Heatmap\", decimal=5, output_dataframe=True, figsize_=10)"
   ]
  }
 ],
 "metadata": {
  "kernelspec": {
   "display_name": "Python 3",
   "language": "python",
   "name": "python3"
  },
  "language_info": {
   "codemirror_mode": {
    "name": "ipython",
    "version": 3
   },
   "file_extension": ".py",
   "mimetype": "text/x-python",
   "name": "python",
   "nbconvert_exporter": "python",
   "pygments_lexer": "ipython3",
   "version": "3.11.9"
  }
 },
 "nbformat": 4,
 "nbformat_minor": 2
}
